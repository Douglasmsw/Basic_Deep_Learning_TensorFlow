{
 "cells": [
  {
   "cell_type": "code",
   "execution_count": 1,
   "id": "39f8e335-9b37-4397-b7f7-0af7ff25ea2b",
   "metadata": {},
   "outputs": [],
   "source": [
    "from tensorflow import keras\n",
    "from tensorflow.keras import layers\n",
    "import matplotlib.pyplot as plt\n",
    "import numpy as np\n"
   ]
  },
  {
   "cell_type": "code",
   "execution_count": 18,
   "id": "a21699cd-82e2-4973-80f1-75dc7ff67927",
   "metadata": {},
   "outputs": [],
   "source": [
    "from tensorflow.keras.datasets import reuters\n",
    "(train_data, train_labels), (test_data, test_labels) = reuters.load_data(num_words=10000)\n",
    "#num_words restricts data to 10,000 most frequently occuring words found in data\n"
   ]
  },
  {
   "cell_type": "markdown",
   "id": "5c413227-50b7-4438-9c6a-6d512d6087d4",
   "metadata": {},
   "source": [
    "**Data Overview**\n",
    "\n",
    "This dataset contains shorts newswires with their topics as labels. Each newswire has a single topic label, hence this is a *single-label multiclass classification* problem. There are 46 topics, 8,982 training examples (newswires), and 2,246 test examples.\n",
    "\n",
    "Each example is a list of integers which are word indeces from the set 0f 10,000 most common words in the data. \n",
    "\n",
    "Each label is an integer between 0 and 45 and represent a topic index.\n"
   ]
  },
  {
   "cell_type": "code",
   "execution_count": 10,
   "id": "7413bda6-72fd-4ca7-9c6b-2e5e469bdbff",
   "metadata": {
    "collapsed": true,
    "jupyter": {
     "outputs_hidden": true
    },
    "tags": []
   },
   "outputs": [
    {
     "data": {
      "text/plain": [
       "(4,\n",
       " [1,\n",
       "  8295,\n",
       "  111,\n",
       "  8,\n",
       "  25,\n",
       "  166,\n",
       "  40,\n",
       "  638,\n",
       "  10,\n",
       "  436,\n",
       "  22,\n",
       "  265,\n",
       "  9,\n",
       "  621,\n",
       "  575,\n",
       "  1080,\n",
       "  4742,\n",
       "  1149,\n",
       "  2,\n",
       "  6,\n",
       "  438,\n",
       "  8295,\n",
       "  13,\n",
       "  102,\n",
       "  388,\n",
       "  15,\n",
       "  90,\n",
       "  67,\n",
       "  7,\n",
       "  197,\n",
       "  8295,\n",
       "  8,\n",
       "  4,\n",
       "  270,\n",
       "  416,\n",
       "  23,\n",
       "  527,\n",
       "  6,\n",
       "  2,\n",
       "  4891,\n",
       "  4,\n",
       "  1055,\n",
       "  742,\n",
       "  16,\n",
       "  8,\n",
       "  36,\n",
       "  1480,\n",
       "  6,\n",
       "  2124,\n",
       "  100,\n",
       "  543,\n",
       "  5,\n",
       "  645,\n",
       "  362,\n",
       "  6,\n",
       "  2912,\n",
       "  4,\n",
       "  49,\n",
       "  8,\n",
       "  2,\n",
       "  976,\n",
       "  124,\n",
       "  20,\n",
       "  5,\n",
       "  8295,\n",
       "  80,\n",
       "  9,\n",
       "  100,\n",
       "  362,\n",
       "  543,\n",
       "  395,\n",
       "  61,\n",
       "  44,\n",
       "  20,\n",
       "  8295,\n",
       "  8,\n",
       "  16,\n",
       "  40,\n",
       "  1276,\n",
       "  42,\n",
       "  1436,\n",
       "  166,\n",
       "  415,\n",
       "  6,\n",
       "  888,\n",
       "  4,\n",
       "  116,\n",
       "  9,\n",
       "  40,\n",
       "  3089,\n",
       "  4,\n",
       "  303,\n",
       "  163,\n",
       "  16,\n",
       "  64,\n",
       "  772,\n",
       "  13,\n",
       "  94,\n",
       "  156,\n",
       "  17,\n",
       "  12])"
      ]
     },
     "execution_count": 10,
     "metadata": {},
     "output_type": "execute_result"
    }
   ],
   "source": [
    "train_labels[4], train_data[4]\n"
   ]
  },
  {
   "cell_type": "code",
   "execution_count": 5,
   "id": "77f0a702-9a7b-416c-a60f-fd3e76904420",
   "metadata": {},
   "outputs": [],
   "source": [
    "word_index = reuters.get_word_index()\n",
    "reverse_word_index = dict(\n",
    "    [(value, key) for (key, value) in word_index.items()])\n",
    "decoded_newswire = \" \".join(\n",
    "    [reverse_word_index.get(i-3, '?') for i in train_data[0]])\n"
   ]
  },
  {
   "cell_type": "code",
   "execution_count": 7,
   "id": "f58e290e-a0e8-46c8-a771-f8089675bcc2",
   "metadata": {},
   "outputs": [],
   "source": [
    "def decode_newswire(reverse_word_index, newswire_data, newswire_index):\n",
    "    decoded_newswire = \" \".join(\n",
    "        [reverse_word_index.get(i-3, '?') for i in newswire_data[newswire_index]])\n",
    "    return decoded_newswire\n"
   ]
  },
  {
   "cell_type": "code",
   "execution_count": 8,
   "id": "6d80e03c-d33d-4bf9-af7a-b8488d793090",
   "metadata": {},
   "outputs": [
    {
     "data": {
      "text/plain": [
       "'? seton co said its board has received a proposal from chairman and chief executive officer philip d ? to acquire seton for 15 75 dlrs per share in cash seton said the acquisition bid is subject to ? arranging the necessary financing it said he intends to ask other members of senior management to participate the company said ? owns 30 pct of seton stock and other management members another 7 5 pct seton said it has formed an independent board committee to consider the offer and has deferred the annual meeting it had scheduled for march 31 reuter 3'"
      ]
     },
     "execution_count": 8,
     "metadata": {},
     "output_type": "execute_result"
    }
   ],
   "source": [
    "decode_newswire(reverse_word_index, train_data, 4)\n"
   ]
  },
  {
   "cell_type": "code",
   "execution_count": 12,
   "id": "2a7cbcac-ca7c-4306-9d05-917a53fcd2b5",
   "metadata": {},
   "outputs": [],
   "source": [
    "def vectorize_sequences(sequences, dimension=10000):\n",
    "    #sequences is an array of arrays. The internal array is a list of integers that map to a word that appears in the newswire.\n",
    "    results = np.zeros((len(sequences), dimension)) #initializes an all-zero matrix of shape (len(sequences), dimension) \n",
    "    for i, sequence in enumerate(sequences):\n",
    "        for j in sequence:\n",
    "            results[i,j] = 1. #period makes this integer a float\n",
    "            #this iterates through integers in input array and treats them as indeces in the vectorized output. \n",
    "            #for each integer input, the corresponding vector index is encoded with a 1. The rest remain a 0.\n",
    "    return results #an array of \"vector\" arrays\n"
   ]
  },
  {
   "cell_type": "code",
   "execution_count": 15,
   "id": "4cbf6270-9ef4-4f1b-bd0c-9a30d1211346",
   "metadata": {
    "tags": []
   },
   "outputs": [],
   "source": [
    "#vectorize newswire as a vector of 0s and 1s that indicate which word indeces are present\n",
    "x_train = vectorize_sequences(train_data)\n",
    "x_test = vectorize_sequences(test_data)\n"
   ]
  },
  {
   "cell_type": "code",
   "execution_count": 16,
   "id": "6e85298c-3651-41cc-b20a-b6aa03daba22",
   "metadata": {},
   "outputs": [],
   "source": [
    "#convert labels via one-hot encoding / categorical encoding, in vectors with 0s for all categories and a 1 for the relevant category\n",
    "def to_one_hot(labels, dimension=46):\n",
    "    results = np.zeros((len(labels), dimension))\n",
    "    for i, label in enumerate(labels):\n",
    "        results[i, label] = 1.\n",
    "    return results\n"
   ]
  },
  {
   "cell_type": "code",
   "execution_count": 20,
   "id": "97a535f1-ba85-43da-b181-5c07653a21a6",
   "metadata": {},
   "outputs": [],
   "source": [
    "#vectorize training and test labels\n",
    "y_train = to_one_hot(train_labels)\n",
    "y_test = to_one_hot(test_labels)\n"
   ]
  },
  {
   "cell_type": "code",
   "execution_count": 25,
   "id": "0a84dcdc-b0c0-421c-8302-06eb49d5479e",
   "metadata": {},
   "outputs": [
    {
     "data": {
      "text/plain": [
       "(True, True)"
      ]
     },
     "execution_count": 25,
     "metadata": {},
     "output_type": "execute_result"
    }
   ],
   "source": [
    "#can vectorize labels with built-in Keras functions as well:\n",
    "from tensorflow.keras.utils import to_categorical\n",
    "y_train_alt = to_categorical(train_labels)\n",
    "y_test_alt = to_categorical(test_labels)\n",
    "\n",
    "np.array_equal(y_train, y_train_alt), np.array_equal(y_test, y_test_alt)"
   ]
  },
  {
   "cell_type": "markdown",
   "id": "c5ad88ff-6b92-4c6f-9791-b8a0178f69af",
   "metadata": {},
   "source": [
    "**Model Architecture**\n",
    "\n",
    "When a layer reduces the dimensionality of the inputs, information / complexity is lost. Since we are trying to classify newswire inputs into 46 labels, it is important to retain dimensionality. For this model we are using 64 unit layers. The final layer outputs a 46-dimensional vector, where each entry encodes a different class.\n",
    "\n",
    "This model needs to return probabilities for 46 potential categories. Rather than using a sigmoid activation function at end, we use *softmax* activation. The model will output a probability distribution over the 46 different output classes, which means a 46-dimensional vector where each entry is the probability the sample (newswire) belongs to the class corresponding to that index. As this is a probability distribution, the 46 scores sum up to 1.\n",
    "\n",
    "In the compile step, we will use rmsprop for the optimizer (standard, works well for most problems), track accuracy in metrics, and use *categorical_crossentropy* for loss. Categorical crossentropy measures the distance between two probability distributions: <br> \n",
    "<br>\n",
    "    1) The probability distribution output by the model<br>\n",
    "    2) The true probability distribution of the labels<br>\n",
    "   <br>\n",
    "By minimizing the distance between these two distributions, the model is trained to output something as close as possible to the true labels.\n"
   ]
  },
  {
   "cell_type": "code",
   "execution_count": 28,
   "id": "badd9be5-69b1-4078-9edb-aa9eef8c4554",
   "metadata": {},
   "outputs": [],
   "source": [
    "model = keras.Sequential([\n",
    "    layers.Dense(64, activation='relu'),\n",
    "    layers.Dense(64, activation='relu'),\n",
    "    layers.Dense(46, activation='softmax')\n",
    "])\n",
    "\n",
    "model.compile(optimizer='rmsprop',\n",
    "              loss='categorical_crossentropy',\n",
    "              metrics=['accuracy'])\n"
   ]
  },
  {
   "cell_type": "code",
   "execution_count": 29,
   "id": "6e210247-9a19-40f4-8953-768617ab79ae",
   "metadata": {},
   "outputs": [],
   "source": [
    "#next we set aside validation set\n",
    "x_val = x_train[:1000]\n",
    "partial_x_train = x_train[1000:]\n",
    "y_val = y_train[:1000]\n",
    "partial_y_train = y_train[1000:]\n"
   ]
  },
  {
   "cell_type": "code",
   "execution_count": 30,
   "id": "f4ac6f28-f6a1-4e81-801b-5fd74dee9646",
   "metadata": {},
   "outputs": [
    {
     "name": "stdout",
     "output_type": "stream",
     "text": [
      "Epoch 1/20\n",
      "16/16 [==============================] - 1s 39ms/step - loss: 2.7243 - accuracy: 0.5103 - val_loss: 1.7643 - val_accuracy: 0.6570\n",
      "Epoch 2/20\n",
      "16/16 [==============================] - 0s 21ms/step - loss: 1.4394 - accuracy: 0.7164 - val_loss: 1.3331 - val_accuracy: 0.7170\n",
      "Epoch 3/20\n",
      "16/16 [==============================] - 0s 17ms/step - loss: 1.0586 - accuracy: 0.7823 - val_loss: 1.1542 - val_accuracy: 0.7560\n",
      "Epoch 4/20\n",
      "16/16 [==============================] - 1s 33ms/step - loss: 0.8303 - accuracy: 0.8269 - val_loss: 1.0518 - val_accuracy: 0.7770\n",
      "Epoch 5/20\n",
      "16/16 [==============================] - 0s 27ms/step - loss: 0.6583 - accuracy: 0.8656 - val_loss: 0.9985 - val_accuracy: 0.7820\n",
      "Epoch 6/20\n",
      "16/16 [==============================] - 0s 27ms/step - loss: 0.5251 - accuracy: 0.8931 - val_loss: 0.9394 - val_accuracy: 0.8070\n",
      "Epoch 7/20\n",
      "16/16 [==============================] - 0s 26ms/step - loss: 0.4205 - accuracy: 0.9147 - val_loss: 0.9381 - val_accuracy: 0.8050\n",
      "Epoch 8/20\n",
      "16/16 [==============================] - 0s 24ms/step - loss: 0.3407 - accuracy: 0.9287 - val_loss: 0.9184 - val_accuracy: 0.8060\n",
      "Epoch 9/20\n",
      "16/16 [==============================] - 0s 23ms/step - loss: 0.2829 - accuracy: 0.9395 - val_loss: 0.9476 - val_accuracy: 0.8010\n",
      "Epoch 10/20\n",
      "16/16 [==============================] - 0s 17ms/step - loss: 0.2387 - accuracy: 0.9465 - val_loss: 0.9092 - val_accuracy: 0.8160\n",
      "Epoch 11/20\n",
      "16/16 [==============================] - 0s 17ms/step - loss: 0.2076 - accuracy: 0.9488 - val_loss: 0.9255 - val_accuracy: 0.8250\n",
      "Epoch 12/20\n",
      "16/16 [==============================] - 0s 15ms/step - loss: 0.1815 - accuracy: 0.9511 - val_loss: 1.0326 - val_accuracy: 0.7990\n",
      "Epoch 13/20\n",
      "16/16 [==============================] - 0s 19ms/step - loss: 0.1632 - accuracy: 0.9540 - val_loss: 0.9693 - val_accuracy: 0.8140\n",
      "Epoch 14/20\n",
      "16/16 [==============================] - 0s 17ms/step - loss: 0.1528 - accuracy: 0.9548 - val_loss: 1.0139 - val_accuracy: 0.8080\n",
      "Epoch 15/20\n",
      "16/16 [==============================] - 0s 16ms/step - loss: 0.1376 - accuracy: 0.9575 - val_loss: 1.1055 - val_accuracy: 0.7900\n",
      "Epoch 16/20\n",
      "16/16 [==============================] - 0s 16ms/step - loss: 0.1334 - accuracy: 0.9583 - val_loss: 1.0390 - val_accuracy: 0.8010\n",
      "Epoch 17/20\n",
      "16/16 [==============================] - 0s 19ms/step - loss: 0.1225 - accuracy: 0.9567 - val_loss: 1.0428 - val_accuracy: 0.8130\n",
      "Epoch 18/20\n",
      "16/16 [==============================] - 0s 28ms/step - loss: 0.1226 - accuracy: 0.9546 - val_loss: 1.0562 - val_accuracy: 0.8100\n",
      "Epoch 19/20\n",
      "16/16 [==============================] - 0s 26ms/step - loss: 0.1177 - accuracy: 0.9589 - val_loss: 1.0755 - val_accuracy: 0.8040\n",
      "Epoch 20/20\n",
      "16/16 [==============================] - 0s 23ms/step - loss: 0.1140 - accuracy: 0.9587 - val_loss: 1.1273 - val_accuracy: 0.7870\n"
     ]
    }
   ],
   "source": [
    "history = model.fit(partial_x_train,\n",
    "                    partial_y_train,\n",
    "                    epochs=20,\n",
    "                    batch_size=512,\n",
    "                    validation_data=(x_val, y_val))\n"
   ]
  },
  {
   "cell_type": "code",
   "execution_count": 31,
   "id": "06e8d18f-f0eb-4a59-ba23-58233bdf0667",
   "metadata": {},
   "outputs": [
    {
     "data": {
      "image/png": "[encoded data removed]",
      "text/plain": [
       "<Figure size 432x288 with 1 Axes>"
      ]
     },
     "metadata": {
      "needs_background": "light"
     },
     "output_type": "display_data"
    }
   ],
   "source": [
    "loss = history.history['loss']\n",
    "val_loss = history.history['val_loss']\n",
    "epochs = range(1, len(loss)+1)\n",
    "plt.plot(epochs, loss, 'bo', label='Training Loss')\n",
    "plt.plot(epochs, val_loss, 'b', label='Validation Loss')\n",
    "plt.title('Training and Validation Loss')\n",
    "plt.xlabel('Epochs')\n",
    "plt.ylabel('Loss')\n",
    "plt.legend()\n",
    "plt.show()\n"
   ]
  },
  {
   "cell_type": "code",
   "execution_count": 32,
   "id": "bbd4f256-af3d-4b16-9094-69b6334164cd",
   "metadata": {},
   "outputs": [
    {
     "data": {
      "image/png": "[encoded data removed]",
      "text/plain": [
       "<Figure size 432x288 with 1 Axes>"
      ]
     },
     "metadata": {
      "needs_background": "light"
     },
     "output_type": "display_data"
    }
   ],
   "source": [
    "plt.clf()\n",
    "acc = history.history['accuracy']\n",
    "val_acc = history.history['val_accuracy']\n",
    "plt.plot(epochs, acc, 'bo', label='Training Accuracy')\n",
    "plt.plot(epochs, val_acc, 'b', label='Validation Accuracy')\n",
    "plt.title('Training and Validation Accuracy')\n",
    "plt.xlabel('Epochs')\n",
    "plt.ylabel('Accuracy')\n",
    "plt.legend()\n",
    "plt.show()\n"
   ]
  },
  {
   "cell_type": "markdown",
   "id": "5941fbb9-2d64-49a5-808a-ed959a40b532",
   "metadata": {},
   "source": [
    "After ~8 or 9 epochs the model begins to overfit. So build a new one with 9 epochs:"
   ]
  },
  {
   "cell_type": "code",
   "execution_count": 38,
   "id": "61a770ba-9f4d-4594-b90c-792883b24dd6",
   "metadata": {},
   "outputs": [
    {
     "name": "stdout",
     "output_type": "stream",
     "text": [
      "Epoch 1/9\n",
      "18/18 [==============================] - 1s 17ms/step - loss: 2.3167 - accuracy: 0.5495\n",
      "Epoch 2/9\n",
      "18/18 [==============================] - 0s 13ms/step - loss: 1.2642 - accuracy: 0.7287\n",
      "Epoch 3/9\n",
      "18/18 [==============================] - 0s 13ms/step - loss: 0.9422 - accuracy: 0.7960\n",
      "Epoch 4/9\n",
      "18/18 [==============================] - 0s 13ms/step - loss: 0.7352 - accuracy: 0.8441\n",
      "Epoch 5/9\n",
      "18/18 [==============================] - 0s 17ms/step - loss: 0.5766 - accuracy: 0.8801\n",
      "Epoch 6/9\n",
      "18/18 [==============================] - 0s 13ms/step - loss: 0.4601 - accuracy: 0.9025\n",
      "Epoch 7/9\n",
      "18/18 [==============================] - 0s 13ms/step - loss: 0.3659 - accuracy: 0.9184\n",
      "Epoch 8/9\n",
      "18/18 [==============================] - 0s 14ms/step - loss: 0.3061 - accuracy: 0.9301\n",
      "Epoch 9/9\n",
      "18/18 [==============================] - 0s 16ms/step - loss: 0.2558 - accuracy: 0.9394\n",
      "71/71 [==============================] - 0s 1ms/step - loss: 0.9797 - accuracy: 0.7858\n"
     ]
    }
   ],
   "source": [
    "model = keras.Sequential([\n",
    "    layers.Dense(64, activation='relu'),\n",
    "    layers.Dense(64, activation='relu'),\n",
    "    layers.Dense(46, activation='softmax')\n",
    "])\n",
    "\n",
    "model.compile(optimizer='rmsprop',\n",
    "              loss='categorical_crossentropy',\n",
    "              metrics=['accuracy'])\n",
    "\n",
    "model.fit(x_train,\n",
    "          y_train,\n",
    "          epochs=9,\n",
    "          batch_size=512)\n",
    "\n",
    "results = model.evaluate(x_test, y_test)\n"
   ]
  },
  {
   "cell_type": "code",
   "execution_count": 39,
   "id": "4a68279e-ca60-40e6-a7ec-6626af8f2dea",
   "metadata": {},
   "outputs": [
    {
     "name": "stdout",
     "output_type": "stream",
     "text": [
      "Test set accuracy: 0.7858415246009827\n",
      "Test set loss: 0.9796842336654663\n"
     ]
    }
   ],
   "source": [
    "print('Test set accuracy: ' + str(results[1]))\n",
    "print('Test set loss: ' + str(results[0]))\n"
   ]
  },
  {
   "cell_type": "markdown",
   "id": "fca42e8b-2ddd-4e35-8ebb-25c6da197bdd",
   "metadata": {},
   "source": [
    "**Evaluating Model Accuracy**\n",
    "\n",
    "In a balanced binary classification problem, we expect the accuracy by a purely random classifier to be 50%. But with 46 classes, we need to create a random classifier to see what our baseline accuracy would be in this situation.\n",
    "\n",
    "The below cell does this, and we see that, with random assignment / classification, we expect a test accuracy of ~18.5%. With this in mind, our model's test accuracy of ~78.6% looks pretty good.\n"
   ]
  },
  {
   "cell_type": "code",
   "execution_count": 41,
   "id": "7d37cce8-e71e-46f4-9ab8-6cf608455d10",
   "metadata": {},
   "outputs": [
    {
     "data": {
      "text/plain": [
       "0.18477292965271594"
      ]
     },
     "execution_count": 41,
     "metadata": {},
     "output_type": "execute_result"
    }
   ],
   "source": [
    "import copy\n",
    "test_labels_copy = copy.copy(test_labels) #creates copy of labels array\n",
    "np.random.shuffle(test_labels_copy) #shuffles the labels in the array, simulates random assignment / classification\n",
    "hits_array = np.array(test_labels) == np.array(test_labels_copy) #creates an array with 0s when true and random \n",
    "#assignments are unequal and 1s where they are\n",
    "hits_array.mean() #simulates random accuracy, adds up all the times it accuractely categorized and divides by the total number \n",
    "#of samples\n"
   ]
  },
  {
   "cell_type": "markdown",
   "id": "12bce279-6686-48a6-a94f-0bb88375bed8",
   "metadata": {},
   "source": [
    "**Predictions on Test Data**\n",
    "\n",
    "Using the model's predict method returns a class probability distribution across all 46 topics for each sample. Can assign a label by choosing the index of the max value.\n"
   ]
  },
  {
   "cell_type": "code",
   "execution_count": 43,
   "id": "26176b60-be03-4991-b505-e9046286bf6a",
   "metadata": {},
   "outputs": [
    {
     "name": "stdout",
     "output_type": "stream",
     "text": [
      "71/71 [==============================] - 0s 1ms/step\n"
     ]
    },
    {
     "data": {
      "text/plain": [
       "((46,), 1.0)"
      ]
     },
     "execution_count": 43,
     "metadata": {},
     "output_type": "execute_result"
    }
   ],
   "source": [
    "predictions = model.predict(x_test)\n",
    "predictions[0].shape, np.sum(predictions[0])\n"
   ]
  },
  {
   "cell_type": "code",
   "execution_count": 47,
   "id": "a296ba61-d8b0-4672-b8c3-f9be8344990e",
   "metadata": {},
   "outputs": [
    {
     "data": {
      "text/plain": [
       "array([[ 4.],\n",
       "       [ 1.],\n",
       "       [ 1.],\n",
       "       ...,\n",
       "       [ 3.],\n",
       "       [ 4.],\n",
       "       [24.]])"
      ]
     },
     "execution_count": 47,
     "metadata": {},
     "output_type": "execute_result"
    }
   ],
   "source": [
    "predicted_classes = np.zeros((len(x_test), 1))\n",
    "for index, preds in enumerate(predictions):\n",
    "    label = np.argmax(preds)\n",
    "    predicted_classes[index] = label\n",
    "predicted_classes\n"
   ]
  },
  {
   "cell_type": "markdown",
   "id": "0bdeccf9-91b3-452f-8415-04cb36f58e86",
   "metadata": {},
   "source": [
    "**Alternate Handling of Labels & Loss**\n",
    "\n",
    "Can also encode labels as an integer tensor, as in an array with integer labels rather than an array of vectors that one-hot code the category. \n",
    "\n",
    "The only change this would impose is changing the loss function from categorical crossentropy to *sparse categorical crossentropy*.\n",
    "\n",
    "y_train = np.array(train_labels)\n",
    "y_test = np.array(test_labels)\n",
    "\n",
    "model.compile(optimizer='rmsprop',\n",
    "                loss='sparse_categorical_crossentropy',\n",
    "                metrics=['accuracy'])\n"
   ]
  },
  {
   "cell_type": "code",
   "execution_count": null,
   "id": "d3c95afe-2c66-4e62-ac95-43acddce2ed4",
   "metadata": {},
   "outputs": [],
   "source": []
  }
 ],
 "metadata": {
  "kernelspec": {
   "display_name": "Python 3 (ipykernel)",
   "language": "python",
   "name": "python3"
  },
  "language_info": {
   "codemirror_mode": {
    "name": "ipython",
    "version": 3
   },
   "file_extension": ".py",
   "mimetype": "text/x-python",
   "name": "python",
   "nbconvert_exporter": "python",
   "pygments_lexer": "ipython3",
   "version": "3.9.7"
  }
 },
 "nbformat": 4,
 "nbformat_minor": 5
}
