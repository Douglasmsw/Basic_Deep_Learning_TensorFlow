{
 "cells": [
  {
   "cell_type": "code",
   "execution_count": 1,
   "id": "f7fb8d3c-5343-4524-984d-423ee29f9b69",
   "metadata": {},
   "outputs": [],
   "source": [
    "from tensorflow import keras\n",
    "from tensorflow.keras import layers\n",
    "import matplotlib.pyplot as plt\n",
    "import numpy as np\n"
   ]
  },
  {
   "cell_type": "code",
   "execution_count": 4,
   "id": "3a5f06df-64e4-4190-a143-52067042f866",
   "metadata": {},
   "outputs": [
    {
     "data": {
      "text/plain": [
       "((404, 13), (102, 13))"
      ]
     },
     "execution_count": 4,
     "metadata": {},
     "output_type": "execute_result"
    }
   ],
   "source": [
    "from tensorflow.keras.datasets import boston_housing\n",
    "(train_data, train_targets), (test_data, test_targets) = (boston_housing.load_data())\n",
    "\n",
    "train_data.shape, test_data.shape\n"
   ]
  },
  {
   "cell_type": "markdown",
   "id": "41addc0b-cf34-4ab0-9943-2c20bdf074d2",
   "metadata": {},
   "source": [
    "**Data Overview**\n",
    "\n",
    "This data contains information on 506 areas in Boston. Each observation contains 13 numerical features that contain information about things like crime rate. The targets are median housing prices of owner-occupied homes (in thousands of USD) which exist on a continuous scale.\n",
    "\n",
    "There are 506 samples, with 404 training and 102 test samples, and each contain 13 features.\n",
    "\n",
    "The 13 features each have their own numerical scales. Some take values between 0 and 1, 1 and 12, 0 and 100, etc.\n"
   ]
  },
  {
   "cell_type": "code",
   "execution_count": 7,
   "id": "38d17079-6d7f-4456-9e07-b79ad78d3c2c",
   "metadata": {},
   "outputs": [],
   "source": [
    "#Because all the features exist on their own scales, it is important to first normalize all the values for each feature \n",
    "#so they exists on a scale from 0 to 1. Recall we normalize via: norm_val = (val - feature_mean) / feature_std\n",
    "mean = train_data.mean(axis=0)\n",
    "train_data -= mean\n",
    "std = train_data.std(axis=0)\n",
    "train_data /= std\n",
    "\n",
    "#we standardize test_data using the same parameters used for train_data so distributions are consistently transformed for comparison\n",
    "test_data -= mean\n",
    "test_data /=std\n",
    "\n",
    "#NEVER USE QUANTITIES CPMPUTED FROM TEST DATA IN WORKFLOW, EVEN FOR THINGS LIKE NORMALIZATION. TEST DATA CANNOT TOUCH MODEL!!!!!!\n"
   ]
  },
  {
   "cell_type": "markdown",
   "id": "b72f10eb-1544-4454-ae0b-54bd34b86abe",
   "metadata": {},
   "source": [
    "**Model Architecture**\n",
    "\n",
    "We don't have many samples (only 404) so overfitting is a big concern. We can reduce overfitting by using a small model, hence only a couple layers.\n",
    "\n",
    "The final layer end with a single unit and no activation (linear layer), which is typical for scalar regression where you are trying to predict a single continuous value. Applying an activation function constrains the range of possible output values. For example, sigmoid activation constrains output values to be between 0 and 1. \n",
    "\n",
    "Note we use MAE (*mean absolute error*) as the metric, which gives the absolute value of the difference between predictions and targets in thousands of USD.\n"
   ]
  },
  {
   "cell_type": "code",
   "execution_count": 9,
   "id": "f3be601d-ef39-4030-ac58-d77394167804",
   "metadata": {},
   "outputs": [],
   "source": [
    "def build_model():\n",
    "    model = keras.Sequential([\n",
    "        layers.Dense(64, activation='relu'),\n",
    "        layers.Dense(64, activation='relu'),\n",
    "        layers.Dense(1)\n",
    "    ])\n",
    "    model.compile(optimizer='rmsprop', loss='mse', metrics=['mae'])\n",
    "    return model\n"
   ]
  },
  {
   "cell_type": "markdown",
   "id": "e63a566f-acd1-4b6a-9b27-e8035497438d",
   "metadata": {},
   "source": [
    "**K-fold Validation**\n",
    "\n",
    "Because we have so few data points, splitting the dataset into a training and validation set would create a very small validation set. As a consequence, the subset of data we use for our validation set could have large impacts on the validation scores. In other words, the small validation set creates high variation within validation scores. This makes it difficult to reliably evaluate our model. \n",
    "\n",
    "In these situations, best practice is to use *K-fold cross-validation*. K-fold vlidation triangulates error by taking the mean error of multiple runs of the model while ensuring each model run does not use the same validation data as the prior.\n",
    "\n",
    "We split the data into K partitions (typicall K = 4 or 5), create K identical models, and then train each model using a different set of k-1 partitions. The validation score for the model is the average of the K validation scores obtained. \n",
    "\n",
    "Example where we split data into K = 3 partitions and use these partitions differently for each fold (run of identical model):\n",
    "\n",
    "Fold 1: [Validation] [Training] [Training] => Validation score #1 (V1)\n",
    "\n",
    "Fold 2: [Training] [Validation] [Training] => Validation score #2 (V2)\n",
    "\n",
    "Fold 3: [Training] [Training] [Validation] => Validation score #3 (V3)\n",
    "\n",
    "Final validation score for model = VF = mean(V1, V2, V3) = (V1 + V2 + V3) / 3\n"
   ]
  },
  {
   "cell_type": "code",
   "execution_count": 13,
   "id": "6db67bfb-99ea-4d5f-ab5d-768949742cd4",
   "metadata": {},
   "outputs": [
    {
     "name": "stdout",
     "output_type": "stream",
     "text": [
      "Processing fold 0\n"
     ]
    },
    {
     "name": "stderr",
     "output_type": "stream",
     "text": [
      "2022-08-21 19:51:42.052340: I tensorflow/core/platform/cpu_feature_guard.cc:193] This TensorFlow binary is optimized with oneAPI Deep Neural Network Library (oneDNN) to use the following CPU instructions in performance-critical operations:  AVX2 FMA\n",
      "To enable them in other operations, rebuild TensorFlow with the appropriate compiler flags.\n"
     ]
    },
    {
     "name": "stdout",
     "output_type": "stream",
     "text": [
      "Processing fold 1\n",
      "Processing fold 2\n",
      "Processing fold 3\n"
     ]
    }
   ],
   "source": [
    "k = 4\n",
    "num_val_samples = len(train_data) // k #determines number of indeces in one partition via floor division\n",
    "num_epochs = 100\n",
    "all_scores = []\n",
    "for i in range(k):\n",
    "    print('Processing fold ' + str(i))\n",
    "    val_data = train_data[i * num_val_samples: (i + 1) * num_val_samples] #extract validation data for Kth partition via slicing\n",
    "    val_targets = train_targets[i * num_val_samples: (i + 1) * num_val_samples] #extracts validation data targets via slicing\n",
    "    \n",
    "    partial_train_data = np.concatenate(\n",
    "        [train_data[:i * num_val_samples],\n",
    "        train_data[(i + 1) * num_val_samples:]],\n",
    "        axis=0) #concatenates rest of data (outside validation slice indeces) into training data\n",
    "    partial_train_targets = np.concatenate(\n",
    "        [train_targets[:i * num_val_samples],\n",
    "        train_targets[(i + 1) * num_val_samples:]],\n",
    "        axis=0) #concatenates rest of targets (outside of valudation slice indeces) into training data\n",
    "    \n",
    "    model = build_model() #calls function from earlier that returns our model\n",
    "    model.fit(partial_train_data, partial_train_targets,\n",
    "        epochs=num_epochs, batch_size=16, verbose=0) #iterates over data for inputted number of epochs\n",
    "    val_mse, val_mae = model.evaluate(val_data, val_targets, verbose=0)\n",
    "    all_scores.append(val_mae)\n",
    "    \n"
   ]
  },
  {
   "cell_type": "code",
   "execution_count": 12,
   "id": "0e2d4487-43e1-48cf-8d70-9148346f6c18",
   "metadata": {},
   "outputs": [],
   "source": [
    "def k_fold_validation(k, num_epochs, num_batches, model, train_data, train_targets):\n",
    "    all_scores = []\n",
    "    num_val_samples = len(train_data) // k #determines number of indeces in one partition via floor division\n",
    "    for i in range(k):\n",
    "        print('Processing fold ' + str(i))\n",
    "        val_data = train_data[i * num_val_samples: (i + 1) * num_val_samples] #extract validation data for Kth partition via slicing\n",
    "        val_targets = train_targets[i * num_val_samples: (i + 1) * num_val_samples] #extracts validation data targets via slicing\n",
    "\n",
    "        partial_train_data = np.concatenate(\n",
    "            [train_data[:i * num_val_samples],\n",
    "            train_data[(i + 1) * num_val_samples:]],\n",
    "            axis=0) #concatenates rest of data (outside validation slice indeces) into training data\n",
    "        partial_train_targets = np.concatenate(\n",
    "            [train_targets[:i * num_val_samples],\n",
    "            train_targets[(i + 1) * num_val_samples:]],\n",
    "            axis=0) #concatenates rest of targets (outside of valudation slice indeces) into training data\n",
    "\n",
    "        model.fit(partial_train_data, partial_train_targets,\n",
    "            epochs=num_epochs, batch_size=num_batches, verbose=0) #iterates over data for inputted number of epochs\n",
    "        val_mse, val_mae = model.evaluate(val_data, val_targets, verbose=0)\n",
    "        all_scores.append(val_mae)\n",
    "        \n",
    "    return all_scores\n",
    "    "
   ]
  },
  {
   "cell_type": "code",
   "execution_count": 15,
   "id": "53d4216a-211a-4942-8566-5cda7c4a70fc",
   "metadata": {},
   "outputs": [
    {
     "data": {
      "text/plain": [
       "[1.9763747453689575, 2.6056361198425293, 2.5282375812530518, 2.349081516265869]"
      ]
     },
     "execution_count": 15,
     "metadata": {},
     "output_type": "execute_result"
    }
   ],
   "source": [
    "all_scores\n"
   ]
  },
  {
   "cell_type": "code",
   "execution_count": 22,
   "id": "0704d3d5-4fc7-42da-ae82-726614cffcc9",
   "metadata": {},
   "outputs": [
    {
     "name": "stdout",
     "output_type": "stream",
     "text": [
      "Model's predictions vary by, on average, $2364.83\n"
     ]
    }
   ],
   "source": [
    "print(\"Model's predictions vary by, on average, $\" + str(np.round(np.mean(all_scores)*1000, 2)))\n"
   ]
  },
  {
   "cell_type": "code",
   "execution_count": 54,
   "id": "158e5de1-0bf8-4a7a-b1cd-bd57b57e4a81",
   "metadata": {},
   "outputs": [],
   "source": [
    "#Now let's run the model with more epochs (500) and save the MAE history of every epoch. \n",
    "#Then we can calculate average per-epoch MAE core for all folds.\n",
    "\n",
    "def k_fold_validation(k, num_epochs, num_batches, model, train_data, train_targets):\n",
    "    all_mae_histories = []\n",
    "    num_val_samples = len(train_data) // k #determines number of indeces in one partition via floor division\n",
    "    for i in range(k):\n",
    "        print('Processing fold #' + str(i + 1))\n",
    "        val_data = train_data[i * num_val_samples: (i + 1) * num_val_samples] #extract validation data for Kth partition via slicing\n",
    "        val_targets = train_targets[i * num_val_samples: (i + 1) * num_val_samples] #extracts validation data targets via slicing\n",
    "\n",
    "        partial_train_data = np.concatenate(\n",
    "            [train_data[:i * num_val_samples],\n",
    "            train_data[(i + 1) * num_val_samples:]],\n",
    "            axis=0) #concatenates rest of data (outside validation slice indeces) into training data\n",
    "        partial_train_targets = np.concatenate(\n",
    "            [train_targets[:i * num_val_samples],\n",
    "            train_targets[(i + 1) * num_val_samples:]],\n",
    "            axis=0) #concatenates rest of targets (outside of valudation slice indeces) into training data\n",
    "\n",
    "        history = model.fit(partial_train_data, partial_train_targets, validation_data=(val_data, val_targets),\n",
    "            epochs=num_epochs, batch_size=num_batches, verbose=0) #iterates over data for inputted number of epochs\n",
    "        mae_history = history.history[\"val_mae\"]\n",
    "        all_mae_histories.append(mae_history)\n",
    "    #for each epoch calculate mean across every k-fold and store these in an array\n",
    "    average_mae_history = [np.mean([x[i] for x in all_mae_histories]) for i in range(num_epochs)] \n",
    "        \n",
    "    return average_mae_history\n"
   ]
  },
  {
   "cell_type": "code",
   "execution_count": 55,
   "id": "c39805e6-2ab7-45a1-a44c-c7f1eeb53005",
   "metadata": {},
   "outputs": [
    {
     "name": "stdout",
     "output_type": "stream",
     "text": [
      "Processing fold #1\n",
      "Processing fold #2\n",
      "Processing fold #3\n",
      "Processing fold #4\n"
     ]
    }
   ],
   "source": [
    "average_mae_history = k_fold_validation(4, 500, 16, build_model(), train_data, train_targets)\n"
   ]
  },
  {
   "cell_type": "code",
   "execution_count": 56,
   "id": "908d6ed9-f846-4edb-9b00-6e5a804354b4",
   "metadata": {},
   "outputs": [
    {
     "data": {
      "image/png": "[encoded data removed]",
      "text/plain": [
       "<Figure size 432x288 with 1 Axes>"
      ]
     },
     "metadata": {
      "needs_background": "light"
     },
     "output_type": "display_data"
    }
   ],
   "source": [
    "#Now we plot average MAE history to get a sense of how the model changed over epochs:\n",
    "plt.plot(range(1, len(average_mae_history) + 1), average_mae_history)\n",
    "plt.xlabel(\"Epochs\")\n",
    "plt.ylabel(\"Validation MAE\")\n",
    "plt.show()\n"
   ]
  },
  {
   "cell_type": "code",
   "execution_count": 57,
   "id": "9badf262-c655-4cd1-9682-d74b7872b8a0",
   "metadata": {},
   "outputs": [
    {
     "data": {
      "image/png": "[encoded data removed]",
      "text/plain": [
       "<Figure size 432x288 with 1 Axes>"
      ]
     },
     "metadata": {
      "needs_background": "light"
     },
     "output_type": "display_data"
    },
    {
     "data": {
      "image/png": "[encoded data removed]",
      "text/plain": [
       "<Figure size 432x288 with 1 Axes>"
      ]
     },
     "metadata": {
      "needs_background": "light"
     },
     "output_type": "display_data"
    }
   ],
   "source": [
    "#Drop first 10 data points (epochs) to see what trend is closer up without large scale\n",
    "truncated_mae_history = average_mae_history[10:]\n",
    "plt.plot(range(1, len(truncated_mae_history) + 1), truncated_mae_history)\n",
    "plt.xlabel(\"Epochs\")\n",
    "plt.ylabel(\"Validation MAE\")\n",
    "plt.show()\n",
    "\n",
    "truncated_mae_history = average_mae_history[5:]\n",
    "plt.plot(range(1, len(truncated_mae_history) + 1), truncated_mae_history)\n",
    "plt.xlabel(\"Epochs\")\n",
    "plt.ylabel(\"Validation MAE\")\n",
    "plt.show()\n"
   ]
  },
  {
   "cell_type": "code",
   "execution_count": 65,
   "id": "c54b1ce0-2eac-4e58-a008-4c6640debb20",
   "metadata": {},
   "outputs": [
    {
     "name": "stdout",
     "output_type": "stream",
     "text": [
      "4/4 [==============================] - 0s 2ms/step - loss: 14.7819 - mae: 2.5466\n"
     ]
    },
    {
     "data": {
      "text/plain": [
       "2.546607732772827"
      ]
     },
     "execution_count": 65,
     "metadata": {},
     "output_type": "execute_result"
    }
   ],
   "source": [
    "#Looks like we hit our lowest MAE after around 30 epochs, so we are going to retrain out model for that target.\n",
    "model = build_model()\n",
    "model.fit(train_data, train_targets,\n",
    "    epochs=150, batch_size=16, verbose=0)\n",
    "test_mse_score, test_mae_score = model.evaluate(test_data, test_targets)\n",
    "test_mae_score\n",
    "\n",
    "#Oddly, our error is high around 30 epochs, and lowest around 150. The plot does not line up with our model outputs.\n"
   ]
  },
  {
   "cell_type": "code",
   "execution_count": 66,
   "id": "a05d1fae-4502-4422-a535-655bb9c924fb",
   "metadata": {},
   "outputs": [
    {
     "name": "stdout",
     "output_type": "stream",
     "text": [
      "4/4 [==============================] - 0s 1ms/step\n"
     ]
    },
    {
     "data": {
      "text/plain": [
       "array([9.281826], dtype=float32)"
      ]
     },
     "execution_count": 66,
     "metadata": {},
     "output_type": "execute_result"
    }
   ],
   "source": [
    "#Can use predict to generate predictions for estimated median house price in thousands of dollars:\n",
    "predictions = model.predict(test_data)\n",
    "predictions[0]\n"
   ]
  },
  {
   "cell_type": "code",
   "execution_count": null,
   "id": "591fbf51-01c5-4acb-8d43-089b130f3cb2",
   "metadata": {},
   "outputs": [],
   "source": []
  }
 ],
 "metadata": {
  "kernelspec": {
   "display_name": "Python 3 (ipykernel)",
   "language": "python",
   "name": "python3"
  },
  "language_info": {
   "codemirror_mode": {
    "name": "ipython",
    "version": 3
   },
   "file_extension": ".py",
   "mimetype": "text/x-python",
   "name": "python",
   "nbconvert_exporter": "python",
   "pygments_lexer": "ipython3",
   "version": "3.9.7"
  }
 },
 "nbformat": 4,
 "nbformat_minor": 5
}
