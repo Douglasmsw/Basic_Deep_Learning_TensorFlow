{
 "cells": [
  {
   "cell_type": "code",
   "execution_count": 4,
   "id": "9cb9ea5c-a683-470e-a2dd-1dc7a6b74b6b",
   "metadata": {},
   "outputs": [],
   "source": [
    "from tensorflow import keras\n",
    "from tensorflow.keras import layers\n",
    "import matplotlib.pyplot as plt\n",
    "import numpy as np\n"
   ]
  },
  {
   "cell_type": "code",
   "execution_count": 1,
   "id": "07b9dd86-1c8c-4a13-8554-a9a30339e9da",
   "metadata": {},
   "outputs": [
    {
     "name": "stdout",
     "output_type": "stream",
     "text": [
      "Downloading data from https://storage.googleapis.com/tensorflow/tf-keras-datasets/imdb.npz\n",
      "17464789/17464789 [==============================] - 9s 1us/step\n"
     ]
    }
   ],
   "source": [
    "from tensorflow.keras.datasets import imdb\n",
    "(train_data, train_labels), (test_data, test_labels) = imdb.load_data(\n",
    "num_words=10000)\n"
   ]
  },
  {
   "cell_type": "markdown",
   "id": "d97b6b41-78fd-4d47-8626-2cfd3557570e",
   "metadata": {},
   "source": [
    "**Data Overview** \n",
    "\n",
    "Data is composed on reviews and labels:\n",
    "\n",
    "The reviews are lists of integers, and each integer maps to a word. This dataset only encodes the top 10,000 most frequent words in the dataset, so there are 10,000 possible integer inputs.\n",
    "\n",
    "For each review there is a label, which is simply a 0 or 1. 0 means the review is negative and 1 means the review is positive.\n",
    "\n",
    "There are 50,000 highly polarized reviews from OMDB, which are split into 25,000 training reviews and 25,000 testing reviews. Both training and testing sets are 50% positive and 50% negative.\n"
   ]
  },
  {
   "cell_type": "code",
   "execution_count": 10,
   "id": "e8e808d9-a08a-4fc2-9f27-feb267e14dca",
   "metadata": {
    "collapsed": true,
    "jupyter": {
     "outputs_hidden": true
    },
    "tags": []
   },
   "outputs": [
    {
     "data": {
      "text/plain": [
       "[1,\n",
       " 40,\n",
       " 49,\n",
       " 85,\n",
       " 84,\n",
       " 1040,\n",
       " 146,\n",
       " 6,\n",
       " 783,\n",
       " 254,\n",
       " 4386,\n",
       " 337,\n",
       " 5,\n",
       " 13,\n",
       " 447,\n",
       " 14,\n",
       " 500,\n",
       " 10,\n",
       " 10,\n",
       " 14,\n",
       " 500,\n",
       " 517,\n",
       " 1076,\n",
       " 357,\n",
       " 21,\n",
       " 1684,\n",
       " 72,\n",
       " 45,\n",
       " 290,\n",
       " 12,\n",
       " 17,\n",
       " 515,\n",
       " 17,\n",
       " 25,\n",
       " 380,\n",
       " 129,\n",
       " 3305,\n",
       " 4,\n",
       " 2191,\n",
       " 26,\n",
       " 253,\n",
       " 5,\n",
       " 2,\n",
       " 36,\n",
       " 80,\n",
       " 4357,\n",
       " 25,\n",
       " 2,\n",
       " 129,\n",
       " 330,\n",
       " 505,\n",
       " 8,\n",
       " 2,\n",
       " 146,\n",
       " 24,\n",
       " 3988,\n",
       " 14,\n",
       " 500,\n",
       " 9,\n",
       " 82,\n",
       " 2,\n",
       " 5,\n",
       " 9,\n",
       " 1293,\n",
       " 224,\n",
       " 10,\n",
       " 10,\n",
       " 8,\n",
       " 401,\n",
       " 14,\n",
       " 1361,\n",
       " 879,\n",
       " 13,\n",
       " 28,\n",
       " 8,\n",
       " 401,\n",
       " 61,\n",
       " 1642,\n",
       " 2925,\n",
       " 44,\n",
       " 1373,\n",
       " 21,\n",
       " 591,\n",
       " 353,\n",
       " 14,\n",
       " 500,\n",
       " 4092,\n",
       " 30,\n",
       " 290,\n",
       " 12,\n",
       " 10,\n",
       " 10,\n",
       " 65,\n",
       " 790,\n",
       " 790,\n",
       " 206,\n",
       " 158,\n",
       " 300,\n",
       " 45,\n",
       " 15,\n",
       " 52,\n",
       " 2,\n",
       " 158,\n",
       " 692,\n",
       " 2,\n",
       " 158,\n",
       " 856,\n",
       " 158]"
      ]
     },
     "execution_count": 10,
     "metadata": {},
     "output_type": "execute_result"
    }
   ],
   "source": [
    "test_data[4]\n"
   ]
  },
  {
   "cell_type": "code",
   "execution_count": 5,
   "id": "7d9dcbae-d53e-4fe2-bab8-96fb4c017dfc",
   "metadata": {},
   "outputs": [
    {
     "name": "stdout",
     "output_type": "stream",
     "text": [
      "Downloading data from https://storage.googleapis.com/tensorflow/tf-keras-datasets/imdb_word_index.json\n",
      "1641221/1641221 [==============================] - 1s 1us/step\n"
     ]
    }
   ],
   "source": [
    "word_index = imdb.get_word_index()\n",
    "reverse_word_index = dict(\n",
    "    [(value,key) for (key,value) in word_index.items()])\n",
    "decoded_review = \" \".join(\n",
    "    [reverse_word_index.get(i-3, \"?\") for i in train_data[0]])\n"
   ]
  },
  {
   "cell_type": "code",
   "execution_count": 8,
   "id": "392985fd-a289-4121-90f2-4a98ca7c8331",
   "metadata": {},
   "outputs": [],
   "source": [
    "def decode_review(reverse_word_index, dataset, review_index):\n",
    "    decoded_review = \" \".join(\n",
    "        [reverse_word_index.get(i-3, '?') for i in dataset[review_index]])\n",
    "    return decoded_review\n"
   ]
  },
  {
   "cell_type": "code",
   "execution_count": 9,
   "id": "9d6d49db-44d2-4553-885a-fec638f6b1fb",
   "metadata": {},
   "outputs": [
    {
     "data": {
      "text/plain": [
       "\"? like some other people wrote i'm a die hard mario fan and i loved this game br br this game starts slightly boring but trust me it's worth it as soon as you start your hooked the levels are fun and ? they will hook you ? your mind turns to ? i'm not kidding this game is also ? and is beautifully done br br to keep this spoiler free i have to keep my mouth shut about details but please try this game it'll be worth it br br story 9 9 action 10 1 it's that good ? 10 attention ? 10 average 10\""
      ]
     },
     "execution_count": 9,
     "metadata": {},
     "output_type": "execute_result"
    }
   ],
   "source": [
    "decode_review(reverse_word_index, test_data, 4)\n"
   ]
  },
  {
   "cell_type": "markdown",
   "id": "25c60bbf-161f-4c1a-8d12-1a49bb8c98fd",
   "metadata": {},
   "source": [
    "**Vectorize the data**\n",
    "\n",
    "Each review only retains a word if it is one of the 10,000 most common words in the dataset. This means for each review there are 10,000 possible values that appear at different frequencies. One way to make this data into a set of consistent input tensors is to vecotrize it.\n",
    "\n",
    "For each review, create a vector of shape (10000, 1) and multi-hot encode the words that appear. Each value in the vector corresponds to one of the 10,000 possible words. It will have a value of 0 if the word is not present in the review and 1 if it is. \n",
    "\n",
    "Vectorizing the data like this turns each review from a list of varying size to an array of consistently shaped vecotrs. The neural net can then batch and process the data in the same, consistent way\n",
    "\n",
    "*Could make this more interesting by recording frequency of words for each review. Could add a second row, turning input data from vector to a matrix of shape (10000, 2). The first column is a simple multi-hot encoding of if the word is in the review and the second is a float input for the number of times it appears divided by the total number of words in the review (num_appearances / review_length) which gives an idea of how prevalent a word is. May return and try this later to see if it makes a difference on the model accuracy.*\n"
   ]
  },
  {
   "cell_type": "code",
   "execution_count": 11,
   "id": "42317b79-a97e-4cc0-a890-bcb539fc94b0",
   "metadata": {},
   "outputs": [],
   "source": [
    "import numpy as np\n",
    "def vectorize_sequences(sequences, dimension=10000):\n",
    "    #sequences is an array of arrays. The internal array is a list of integers that map to a word that appears in the review.\n",
    "    results = np.zeros((len(sequences), dimension)) #initializes an all-zero matrix of shape (len(sequences), dimension) \n",
    "    for i, sequence in enumerate(sequences):\n",
    "        for j in sequence:\n",
    "            results[i,j] = 1. #period makes this integer a float\n",
    "            #this iterates through integers in input array and treats them as indeces in the vectorized output. \n",
    "            #for each integer input, the corresponding vector index is encoded with a 1. The rest remain a 0.\n",
    "    return results #an array of \"vector\" arrays\n"
   ]
  },
  {
   "cell_type": "code",
   "execution_count": 12,
   "id": "0d5f9cea-6c14-429e-9d19-78e74b74a625",
   "metadata": {},
   "outputs": [],
   "source": [
    "x_train = vectorize_sequences(train_data)\n",
    "x_test = vectorize_sequences(test_data)\n"
   ]
  },
  {
   "cell_type": "code",
   "execution_count": 13,
   "id": "548c537e-72f7-4f89-9f8d-051373abfcd4",
   "metadata": {},
   "outputs": [
    {
     "data": {
      "text/plain": [
       "array([0., 1., 1., ..., 0., 0., 0.])"
      ]
     },
     "execution_count": 13,
     "metadata": {},
     "output_type": "execute_result"
    }
   ],
   "source": [
    "x_test[4]\n"
   ]
  },
  {
   "cell_type": "code",
   "execution_count": 15,
   "id": "d6f8a6c2-e669-4357-bc9e-cf75764d5633",
   "metadata": {},
   "outputs": [],
   "source": [
    "#We want to vectorize out labels as numpy arrays. Labels are already binary inputs (0 or 1) so just need to turn \n",
    "#them into arrays of float32 values.\n",
    "y_train = np.asarray(train_labels).astype('float32')\n",
    "y_test = np.asarray(test_labels).astype('float32')\n"
   ]
  },
  {
   "cell_type": "markdown",
   "id": "044b4552-a82c-4475-9b5e-edbf1b01ebce",
   "metadata": {},
   "source": [
    "**Model Architecture**\n",
    "\n",
    "This is a simple problem, with vector inputs and binary scalar labels. A good model for this is simply a stack of densly connected layers with relu activations. \n",
    "\n",
    "This model with have twi intermediate layers, each with 16 units. Then a third layer that will output the scalar prediction regarding review sentiment.\n",
    "\n",
    "(Input, vectorized text) => (Dense, units=16) => (Dense, units=16) => (Dense, units=1) => (Output, probability of label \"1\")\n"
   ]
  },
  {
   "cell_type": "code",
   "execution_count": 25,
   "id": "8b8539ca-1507-4d26-8040-b9d1b69250bc",
   "metadata": {},
   "outputs": [],
   "source": [
    "model = keras.Sequential([\n",
    "    layers.Dense(16, activation='relu'), #recall that relu zeroes out negative values\n",
    "    layers.Dense(16, activation='relu'),\n",
    "    layers.Dense(1, activation='sigmoid') #sigmoid squashes values to range [0,1] which can be interpreted as probability\n",
    "]) #recall that activation functions apply non-linear transformations and extend the hypothesis space\n"
   ]
  },
  {
   "cell_type": "markdown",
   "id": "8a685e9e-6654-431e-96f6-62601e223161",
   "metadata": {},
   "source": [
    "**Intuition**\n",
    "\n",
    "The first integer input is the number of **units** in the layer, a.k.a. the dimensionality of representation apce of the layer. For each relu layer, the tensor operations applied are: output = relu(dot(input, W) + b)\n",
    "\n",
    "Having 16 units means the weigbt matric **W** will have shape (input_dimension, 16). So the dot product with *W* projects the input data onto a 16-dimensional representation space that then has the bias from *b* and relu activation applied. \n",
    "\n",
    "The dimensionality of the representation space restricts the freedom / complexity the model is allowed to apply to the problem. Higher dimensionality means more complex representations for more complex problems (and higher computing cost and opportunity for overfitting).\n"
   ]
  },
  {
   "cell_type": "code",
   "execution_count": 27,
   "id": "eae9a87f-0a44-4dda-a8d3-a14d0e487744",
   "metadata": {},
   "outputs": [],
   "source": [
    "model.compile(optimizer='rmsprop',\n",
    "              loss='binary_crossentropy',\n",
    "              metrics=['accuracy'])\n",
    "\n",
    "#This establishes what optomizer and loss function to use in the model, as well as what metrics to track\n"
   ]
  },
  {
   "cell_type": "code",
   "execution_count": 28,
   "id": "eba689c1-0500-48cc-a9b8-dacdb5c35e07",
   "metadata": {},
   "outputs": [],
   "source": [
    "#We need to ensure we set up a validation set for evaluating the model\n",
    "x_val = x_train[:10000] #this sets aside the first 10,000 values to be used as a validation set\n",
    "partial_x_train = x_train[10000:] #this sets the remaining 15,000 values as our training set, separate from the validation set\n",
    "y_val = y_train[:10000]\n",
    "partial_y_train = y_train[10000:]\n"
   ]
  },
  {
   "cell_type": "code",
   "execution_count": 29,
   "id": "c94a8e4b-6500-444a-92a0-067b866df7e5",
   "metadata": {},
   "outputs": [
    {
     "name": "stdout",
     "output_type": "stream",
     "text": [
      "Epoch 1/20\n",
      "30/30 [==============================] - 3s 52ms/step - loss: 0.5185 - accuracy: 0.7853 - val_loss: 0.3910 - val_accuracy: 0.8715\n",
      "Epoch 2/20\n",
      "30/30 [==============================] - 0s 14ms/step - loss: 0.3121 - accuracy: 0.9013 - val_loss: 0.3150 - val_accuracy: 0.8812\n",
      "Epoch 3/20\n",
      "30/30 [==============================] - 0s 13ms/step - loss: 0.2275 - accuracy: 0.9281 - val_loss: 0.3126 - val_accuracy: 0.8731\n",
      "Epoch 4/20\n",
      "30/30 [==============================] - 0s 13ms/step - loss: 0.1784 - accuracy: 0.9423 - val_loss: 0.2740 - val_accuracy: 0.8900\n",
      "Epoch 5/20\n",
      "30/30 [==============================] - 0s 14ms/step - loss: 0.1463 - accuracy: 0.9527 - val_loss: 0.2971 - val_accuracy: 0.8793\n",
      "Epoch 6/20\n",
      "30/30 [==============================] - 0s 15ms/step - loss: 0.1240 - accuracy: 0.9611 - val_loss: 0.2971 - val_accuracy: 0.8842\n",
      "Epoch 7/20\n",
      "30/30 [==============================] - 0s 14ms/step - loss: 0.0994 - accuracy: 0.9715 - val_loss: 0.3246 - val_accuracy: 0.8766\n",
      "Epoch 8/20\n",
      "30/30 [==============================] - 0s 13ms/step - loss: 0.0852 - accuracy: 0.9758 - val_loss: 0.3308 - val_accuracy: 0.8830\n",
      "Epoch 9/20\n",
      "30/30 [==============================] - 0s 14ms/step - loss: 0.0711 - accuracy: 0.9813 - val_loss: 0.3471 - val_accuracy: 0.8795\n",
      "Epoch 10/20\n",
      "30/30 [==============================] - 0s 13ms/step - loss: 0.0616 - accuracy: 0.9831 - val_loss: 0.3999 - val_accuracy: 0.8749\n",
      "Epoch 11/20\n",
      "30/30 [==============================] - 0s 13ms/step - loss: 0.0473 - accuracy: 0.9893 - val_loss: 0.3965 - val_accuracy: 0.8762\n",
      "Epoch 12/20\n",
      "30/30 [==============================] - 0s 14ms/step - loss: 0.0400 - accuracy: 0.9910 - val_loss: 0.4266 - val_accuracy: 0.8745\n",
      "Epoch 13/20\n",
      "30/30 [==============================] - 0s 13ms/step - loss: 0.0318 - accuracy: 0.9941 - val_loss: 0.5385 - val_accuracy: 0.8645\n",
      "Epoch 14/20\n",
      "30/30 [==============================] - 0s 13ms/step - loss: 0.0286 - accuracy: 0.9939 - val_loss: 0.4934 - val_accuracy: 0.8732\n",
      "Epoch 15/20\n",
      "30/30 [==============================] - 0s 13ms/step - loss: 0.0202 - accuracy: 0.9964 - val_loss: 0.5202 - val_accuracy: 0.8710\n",
      "Epoch 16/20\n",
      "30/30 [==============================] - 0s 12ms/step - loss: 0.0167 - accuracy: 0.9977 - val_loss: 0.5515 - val_accuracy: 0.8710\n",
      "Epoch 17/20\n",
      "30/30 [==============================] - 0s 12ms/step - loss: 0.0156 - accuracy: 0.9972 - val_loss: 0.5804 - val_accuracy: 0.8695\n",
      "Epoch 18/20\n",
      "30/30 [==============================] - 0s 13ms/step - loss: 0.0083 - accuracy: 0.9994 - val_loss: 0.6163 - val_accuracy: 0.8694\n",
      "Epoch 19/20\n",
      "30/30 [==============================] - 0s 12ms/step - loss: 0.0101 - accuracy: 0.9986 - val_loss: 0.6416 - val_accuracy: 0.8680\n",
      "Epoch 20/20\n",
      "30/30 [==============================] - 0s 12ms/step - loss: 0.0059 - accuracy: 0.9997 - val_loss: 0.6792 - val_accuracy: 0.8652\n"
     ]
    }
   ],
   "source": [
    "#Now we train our model, keeping track of our metics (accuracy) for each epoch:\n",
    "\n",
    "history = model.fit(partial_x_train, #using training set separated from validation set in above cell\n",
    "    partial_y_train, \n",
    "    epochs=20, #iterate over all samples (reviews) 20 times \n",
    "    batch_size=512, #iterate over all samples in mini-batches of 512 samples (reviews)\n",
    "    validation_data=(x_val, y_val)) #sets the inputs and outputs for our separated validation data to the ones defined in the cell above\n"
   ]
  },
  {
   "cell_type": "code",
   "execution_count": 30,
   "id": "465beadd-0d94-4f4a-a53e-e7fca81940d8",
   "metadata": {},
   "outputs": [
    {
     "data": {
      "text/plain": [
       "dict_keys(['loss', 'accuracy', 'val_loss', 'val_accuracy'])"
      ]
     },
     "execution_count": 30,
     "metadata": {},
     "output_type": "execute_result"
    }
   ],
   "source": [
    "#model.fit() returns a history object, which is a dictionary where keys are the metrics \"accuracy\", \"loss\", \"val_accuracy\", and \"val_loss\"\n",
    "\n",
    "history_dict = history.history\n",
    "history_dict.keys()\n"
   ]
  },
  {
   "cell_type": "code",
   "execution_count": 37,
   "id": "2664143e-b1f7-4737-8d4d-408912a78432",
   "metadata": {},
   "outputs": [
    {
     "data": {
      "image/png": "[encoded data removed]",
      "text/plain": [
       "<Figure size 432x288 with 1 Axes>"
      ]
     },
     "metadata": {
      "needs_background": "light"
     },
     "output_type": "display_data"
    }
   ],
   "source": [
    "history_dict = history.history\n",
    "loss_values = history_dict['loss']\n",
    "val_loss_values = history_dict['val_loss']\n",
    "epochs = range(1, len(loss_values) + 1)\n",
    "plt.plot(epochs, loss_values, 'bo', label=\"Training Loss\") # 'bo' plots a blue dot\n",
    "plt.plot(epochs, val_loss_values, 'b', label=\"Validation Loss\") # 'b' plots a solid blue line\n",
    "plt.title('Training and Validation Loss')\n",
    "plt.xlabel('Epochs')\n",
    "plt.ylabel('Loss')\n",
    "plt.legend()\n",
    "plt.show()\n"
   ]
  },
  {
   "cell_type": "code",
   "execution_count": 38,
   "id": "5ace55b5-c38b-4007-9e7d-e64c81f45642",
   "metadata": {},
   "outputs": [
    {
     "data": {
      "image/png": "[encoded data removed]",
      "text/plain": [
       "<Figure size 432x288 with 1 Axes>"
      ]
     },
     "metadata": {
      "needs_background": "light"
     },
     "output_type": "display_data"
    }
   ],
   "source": [
    "plt.clf() #clears the figure\n",
    "acc = history_dict['accuracy']\n",
    "val_acc = history_dict['val_accuracy']\n",
    "plt.plot(epochs, acc, 'bo', label='Training Accuracy')\n",
    "plt.plot(epochs, val_acc, 'b', label='Validation Accuracy')\n",
    "plt.title('Training and Valudation Accuracy')\n",
    "plt.xlabel('Epochs')\n",
    "plt.ylabel('Accuracy')\n",
    "plt.legend()\n",
    "plt.show()\n"
   ]
  },
  {
   "cell_type": "markdown",
   "id": "37aa79ab-dfac-4f42-899a-b0476e841efc",
   "metadata": {},
   "source": [
    "**Evaluating Metrics**\n",
    "\n",
    "Looking at validation accuracy (the most important metric), the accuracy peaked around 4 epi=ochs and then began going down. This is due to *overfitting*. To get better results, retrain a model with only 4 epochs.\n"
   ]
  },
  {
   "cell_type": "code",
   "execution_count": 40,
   "id": "78dc4af9-df3e-4452-9c5d-6f248521bf2b",
   "metadata": {},
   "outputs": [
    {
     "name": "stdout",
     "output_type": "stream",
     "text": [
      "Epoch 1/4\n",
      "30/30 [==============================] - 2s 49ms/step - loss: 0.5183 - accuracy: 0.7777 - val_loss: 0.3727 - val_accuracy: 0.8770\n",
      "Epoch 2/4\n",
      "30/30 [==============================] - 0s 15ms/step - loss: 0.3012 - accuracy: 0.8987 - val_loss: 0.3024 - val_accuracy: 0.8858\n",
      "Epoch 3/4\n",
      "30/30 [==============================] - 0s 14ms/step - loss: 0.2197 - accuracy: 0.9284 - val_loss: 0.2841 - val_accuracy: 0.8873\n",
      "Epoch 4/4\n",
      "30/30 [==============================] - 0s 13ms/step - loss: 0.1773 - accuracy: 0.9383 - val_loss: 0.2767 - val_accuracy: 0.8879\n"
     ]
    },
    {
     "data": {
      "text/plain": [
       "<keras.callbacks.History at 0x7f8289b24cd0>"
      ]
     },
     "execution_count": 40,
     "metadata": {},
     "output_type": "execute_result"
    }
   ],
   "source": [
    "model = keras.Sequential([\n",
    "    layers.Dense(16, activation='relu'),\n",
    "    layers.Dense(16, activation='relu'),\n",
    "    layers.Dense(1, activation='sigmoid')\n",
    "])\n",
    "\n",
    "model.compile(optimizer='rmsprop',\n",
    "              loss='binary_crossentropy',\n",
    "              metrics=['accuracy'])\n",
    "\n",
    "model.fit(partial_x_train, partial_y_train, epochs=4, batch_size=512, validation_data=(x_val, y_val))\n"
   ]
  },
  {
   "cell_type": "code",
   "execution_count": 47,
   "id": "e4567864-de18-433b-88a9-adaf129c7e97",
   "metadata": {},
   "outputs": [
    {
     "name": "stdout",
     "output_type": "stream",
     "text": [
      "782/782 [==============================] - 1s 1ms/step\n"
     ]
    }
   ],
   "source": [
    "#can use model.predict() to generate likelihood of reviews being positive:\n",
    "\n",
    "pred_probs = model.predict(x_test)\n",
    "preds = np.zeros((len(x_test), 1))\n",
    "for index, prob in enumerate(pred_probs):\n",
    "    if prob > 0.5:\n",
    "        preds[index] = 1\n"
   ]
  },
  {
   "cell_type": "code",
   "execution_count": 53,
   "id": "268676f4-2117-43b8-8d7a-fe7f7c3f7e6e",
   "metadata": {},
   "outputs": [
    {
     "name": "stdout",
     "output_type": "stream",
     "text": [
      "782/782 [==============================] - 1s 1ms/step - loss: 0.2972 - accuracy: 0.8794\n",
      "Test set accuracy: 0.8794000148773193\n",
      "Number of positive reviews: [11895.]\n",
      "Number of negative reviews: [13105.]\n",
      "Total number of reviews: 25000\n"
     ]
    }
   ],
   "source": [
    "results = model.evaluate(x_test, y_test) #returns a list of 2 values, test loss and test accuracy\n",
    "print('Test set accuracy: ' + str(results[1]))\n",
    "print('Number of positive reviews: ' + str(sum(preds)))\n",
    "print('Number of negative reviews: ' + str((len(preds) - sum(preds))))\n",
    "print('Total number of reviews: ' + str(len(preds)))\n"
   ]
  },
  {
   "cell_type": "code",
   "execution_count": null,
   "id": "f5e081bc-cb1e-4627-8e6c-cdca27cc1606",
   "metadata": {},
   "outputs": [],
   "source": []
  }
 ],
 "metadata": {
  "kernelspec": {
   "display_name": "Python 3 (ipykernel)",
   "language": "python",
   "name": "python3"
  },
  "language_info": {
   "codemirror_mode": {
    "name": "ipython",
    "version": 3
   },
   "file_extension": ".py",
   "mimetype": "text/x-python",
   "name": "python",
   "nbconvert_exporter": "python",
   "pygments_lexer": "ipython3",
   "version": "3.9.7"
  }
 },
 "nbformat": 4,
 "nbformat_minor": 5
}
